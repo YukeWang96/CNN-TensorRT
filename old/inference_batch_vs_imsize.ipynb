{
 "cells": [
  {
   "cell_type": "code",
   "execution_count": 8,
   "metadata": {},
   "outputs": [],
   "source": [
    "import numpy as np\n",
    "import torch\n",
    "import time\n",
    "from torchvision.models import *\n",
    "import pandas as pd\n",
    "import os"
   ]
  },
  {
   "cell_type": "code",
   "execution_count": 9,
   "metadata": {},
   "outputs": [],
   "source": [
    "# make models from str\n",
    "model_name = \"resnet18\"\n",
    "# make results\n",
    "os.makedirs(\"results\", exist_ok=True)"
   ]
  },
  {
   "cell_type": "code",
   "execution_count": 3,
   "metadata": {},
   "outputs": [],
   "source": [
    "def computeTime(model, input_size=[1, 3, 224, 224], device='cuda', FP16=False):\n",
    "    inputs = torch.randn(input_size)\n",
    "    if device == 'cuda':\n",
    "        model = model.cuda()\n",
    "        inputs = inputs.cuda()\n",
    "    if FP16:\n",
    "        model = model.half()\n",
    "        inputs = inputs.half()\n",
    "\n",
    "    model.eval()\n",
    "\n",
    "    i = 0\n",
    "    time_spent = []\n",
    "    while i < 200:\n",
    "        start_time = time.time()\n",
    "        with torch.no_grad():\n",
    "            _ = model(inputs)\n",
    "\n",
    "        if device == 'cuda':\n",
    "            torch.cuda.synchronize() # wait for cuda to finish (cuda is asynchronous!)\n",
    "        if i != 0:\n",
    "            time_spent.append(time.time() - start_time)\n",
    "        i += 1\n",
    "    print('Avg execution time (ms): {:.3f}'.format(np.mean(time_spent)))\n",
    "    return np.mean(time_spent)"
   ]
  },
  {
   "cell_type": "code",
   "execution_count": 4,
   "metadata": {},
   "outputs": [],
   "source": [
    "modellist = [\"resnet18\", \"resnet34\", \"resnet50\", \"resnet101\", \"resnet152\", \\\n",
    " \"resnext50_32x4d\", \"resnext101_32x8d\", \"mnasnet1_0\", \"squeezenet1_0\", \"densenet121\", \"densenet169\", \"inception_v3\"]\n",
    "\n",
    "# resnet is enought for now\n",
    "modellist = [\"resnet18\", \"resnet34\", \"resnet50\"]"
   ]
  },
  {
   "cell_type": "code",
   "execution_count": 5,
   "metadata": {
    "scrolled": false
   },
   "outputs": [
    {
     "name": "stdout",
     "output_type": "stream",
     "text": [
      "model: resnet18\n",
      "Avg execution time (ms): 0.009\n",
      "Avg execution time (ms): 0.019\n",
      "Avg execution time (ms): 0.047\n",
      "Avg execution time (ms): 0.040\n",
      "Avg execution time (ms): 0.091\n",
      "Avg execution time (ms): 0.008\n",
      "Avg execution time (ms): 0.008\n",
      "Avg execution time (ms): 0.020\n",
      "Avg execution time (ms): 0.072\n",
      "model: resnet34\n",
      "Avg execution time (ms): 0.015\n",
      "Avg execution time (ms): 0.037\n",
      "Avg execution time (ms): 0.079\n",
      "Avg execution time (ms): 0.066\n",
      "Avg execution time (ms): 0.146\n",
      "Avg execution time (ms): 0.014\n",
      "Avg execution time (ms): 0.015\n",
      "Avg execution time (ms): 0.038\n",
      "Avg execution time (ms): 0.135\n",
      "model: resnet50\n",
      "Avg execution time (ms): 0.018\n",
      "Avg execution time (ms): 0.045\n",
      "Avg execution time (ms): 0.093\n",
      "Avg execution time (ms): 0.137\n",
      "Avg execution time (ms): 0.279\n",
      "Avg execution time (ms): 0.014\n",
      "Avg execution time (ms): 0.018\n",
      "Avg execution time (ms): 0.048\n",
      "Avg execution time (ms): 0.179\n"
     ]
    }
   ],
   "source": [
    "batchlist = [1, 4, 8, 16, 32]\n",
    "imsize = [128, 256, 512, 1024]\n",
    "\n",
    "for i, model_name in enumerate(modellist):\n",
    "\n",
    "    runtimes = []\n",
    "    \n",
    "    # define model\n",
    "    print(\"model: {}\".format(model_name))\n",
    "    mdl = globals()[model_name]\n",
    "    model = mdl()\n",
    "    \n",
    "    for batch in batchlist:        \n",
    "        runtimes.append(computeTime(model, input_size=[batch, 3, 256, 256], device=\"cuda\", FP16=False)/batch)\n",
    "\n",
    "    if i == 0:\n",
    "        dfbatch = pd.DataFrame({model_name: runtimes},\n",
    "                         index = batchlist)\n",
    "    else:\n",
    "        dfbatch[model_name] = runtimes\n",
    "        \n",
    "    runtimes = []\n",
    "    for isize in imsize:\n",
    "        runtimes.append(computeTime(model, input_size=[1, 3, isize, isize], device=\"cuda\", FP16=False))\n",
    "\n",
    "    if i == 0:\n",
    "        dfimsize = pd.DataFrame({model_name: runtimes},\n",
    "                         index = imsize)\n",
    "    else:\n",
    "        dfimsize[model_name] = runtimes"
   ]
  },
  {
   "cell_type": "code",
   "execution_count": 13,
   "metadata": {},
   "outputs": [
    {
     "data": {
      "text/html": [
       "<div>\n",
       "<style scoped>\n",
       "    .dataframe tbody tr th:only-of-type {\n",
       "        vertical-align: middle;\n",
       "    }\n",
       "\n",
       "    .dataframe tbody tr th {\n",
       "        vertical-align: top;\n",
       "    }\n",
       "\n",
       "    .dataframe thead th {\n",
       "        text-align: right;\n",
       "    }\n",
       "</style>\n",
       "<table border=\"1\" class=\"dataframe\">\n",
       "  <thead>\n",
       "    <tr style=\"text-align: right;\">\n",
       "      <th></th>\n",
       "      <th>resnet18</th>\n",
       "      <th>resnet34</th>\n",
       "      <th>resnet50</th>\n",
       "    </tr>\n",
       "  </thead>\n",
       "  <tbody>\n",
       "    <tr>\n",
       "      <th>1</th>\n",
       "      <td>0.008542</td>\n",
       "      <td>0.014813</td>\n",
       "      <td>0.017847</td>\n",
       "    </tr>\n",
       "    <tr>\n",
       "      <th>4</th>\n",
       "      <td>0.004840</td>\n",
       "      <td>0.009199</td>\n",
       "      <td>0.011361</td>\n",
       "    </tr>\n",
       "    <tr>\n",
       "      <th>8</th>\n",
       "      <td>0.005878</td>\n",
       "      <td>0.009894</td>\n",
       "      <td>0.011598</td>\n",
       "    </tr>\n",
       "    <tr>\n",
       "      <th>16</th>\n",
       "      <td>0.002495</td>\n",
       "      <td>0.004145</td>\n",
       "      <td>0.008592</td>\n",
       "    </tr>\n",
       "    <tr>\n",
       "      <th>32</th>\n",
       "      <td>0.002836</td>\n",
       "      <td>0.004564</td>\n",
       "      <td>0.008728</td>\n",
       "    </tr>\n",
       "  </tbody>\n",
       "</table>\n",
       "</div>"
      ],
      "text/plain": [
       "    resnet18  resnet34  resnet50\n",
       "1   0.008542  0.014813  0.017847\n",
       "4   0.004840  0.009199  0.011361\n",
       "8   0.005878  0.009894  0.011598\n",
       "16  0.002495  0.004145  0.008592\n",
       "32  0.002836  0.004564  0.008728"
      ]
     },
     "execution_count": 13,
     "metadata": {},
     "output_type": "execute_result"
    }
   ],
   "source": [
    "dfbatch.to_csv(\"results/batch.csv\")\n",
    "dfimsize.to_csv(\"results/imsize.csv\")\n",
    "dfbatch"
   ]
  },
  {
   "cell_type": "code",
   "execution_count": 14,
   "metadata": {},
   "outputs": [
    {
     "data": {
      "text/html": [
       "<div>\n",
       "<style scoped>\n",
       "    .dataframe tbody tr th:only-of-type {\n",
       "        vertical-align: middle;\n",
       "    }\n",
       "\n",
       "    .dataframe tbody tr th {\n",
       "        vertical-align: top;\n",
       "    }\n",
       "\n",
       "    .dataframe thead th {\n",
       "        text-align: right;\n",
       "    }\n",
       "</style>\n",
       "<table border=\"1\" class=\"dataframe\">\n",
       "  <thead>\n",
       "    <tr style=\"text-align: right;\">\n",
       "      <th></th>\n",
       "      <th>resnet18</th>\n",
       "      <th>resnet34</th>\n",
       "      <th>resnet50</th>\n",
       "    </tr>\n",
       "  </thead>\n",
       "  <tbody>\n",
       "    <tr>\n",
       "      <th>128</th>\n",
       "      <td>0.007869</td>\n",
       "      <td>0.014414</td>\n",
       "      <td>0.014149</td>\n",
       "    </tr>\n",
       "    <tr>\n",
       "      <th>256</th>\n",
       "      <td>0.007717</td>\n",
       "      <td>0.014684</td>\n",
       "      <td>0.017656</td>\n",
       "    </tr>\n",
       "    <tr>\n",
       "      <th>512</th>\n",
       "      <td>0.020139</td>\n",
       "      <td>0.037699</td>\n",
       "      <td>0.047882</td>\n",
       "    </tr>\n",
       "    <tr>\n",
       "      <th>1024</th>\n",
       "      <td>0.071687</td>\n",
       "      <td>0.134825</td>\n",
       "      <td>0.179115</td>\n",
       "    </tr>\n",
       "  </tbody>\n",
       "</table>\n",
       "</div>"
      ],
      "text/plain": [
       "      resnet18  resnet34  resnet50\n",
       "128   0.007869  0.014414  0.014149\n",
       "256   0.007717  0.014684  0.017656\n",
       "512   0.020139  0.037699  0.047882\n",
       "1024  0.071687  0.134825  0.179115"
      ]
     },
     "execution_count": 14,
     "metadata": {},
     "output_type": "execute_result"
    }
   ],
   "source": [
    "dfimsize"
   ]
  },
  {
   "cell_type": "code",
   "execution_count": 15,
   "metadata": {},
   "outputs": [
    {
     "ename": "ModuleNotFoundError",
     "evalue": "No module named 'apex'",
     "output_type": "error",
     "traceback": [
      "\u001b[0;31m---------------------------------------------------------------------------\u001b[0m",
      "\u001b[0;31mModuleNotFoundError\u001b[0m                       Traceback (most recent call last)",
      "\u001b[0;32m<ipython-input-15-3d354972c283>\u001b[0m in \u001b[0;36m<module>\u001b[0;34m()\u001b[0m\n\u001b[0;32m----> 1\u001b[0;31m \u001b[0;32mimport\u001b[0m \u001b[0mapex\u001b[0m\u001b[0;34m\u001b[0m\u001b[0m\n\u001b[0m",
      "\u001b[0;31mModuleNotFoundError\u001b[0m: No module named 'apex'"
     ]
    }
   ],
   "source": [
    "import "
   ]
  },
  {
   "cell_type": "code",
   "execution_count": null,
   "metadata": {},
   "outputs": [],
   "source": []
  }
 ],
 "metadata": {
  "kernelspec": {
   "display_name": "Python 3",
   "language": "python",
   "name": "python3"
  },
  "language_info": {
   "codemirror_mode": {
    "name": "ipython",
    "version": 3
   },
   "file_extension": ".py",
   "mimetype": "text/x-python",
   "name": "python",
   "nbconvert_exporter": "python",
   "pygments_lexer": "ipython3",
   "version": "3.6.5"
  }
 },
 "nbformat": 4,
 "nbformat_minor": 2
}
