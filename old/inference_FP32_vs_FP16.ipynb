{
 "cells": [
  {
   "cell_type": "code",
   "execution_count": 8,
   "metadata": {},
   "outputs": [],
   "source": [
    "import numpy as np\n",
    "import torch\n",
    "import time\n",
    "from torchvision.models import *\n",
    "import pandas as pd\n",
    "import os\n",
    "from apex import amp"
   ]
  },
  {
   "cell_type": "code",
   "execution_count": 9,
   "metadata": {},
   "outputs": [],
   "source": [
    "# make results\n",
    "os.makedirs(\"results\", exist_ok=True)"
   ]
  },
  {
   "cell_type": "code",
   "execution_count": 10,
   "metadata": {},
   "outputs": [],
   "source": [
    "def computeTime(model, input_size=[1, 3, 224, 224], device='cuda', FP16=False):\n",
    "    inputs = torch.randn(input_size)\n",
    "    if device == 'cuda':\n",
    "        model = model.cuda()\n",
    "        inputs = inputs.cuda()\n",
    "    if FP16:\n",
    "        model = model.half()\n",
    "        inputs = inputs.half()\n",
    "\n",
    "    model.eval()\n",
    "\n",
    "    i = 0\n",
    "    time_spent = []\n",
    "    while i < 200:\n",
    "        start_time = time.time()\n",
    "        with torch.no_grad():\n",
    "            _ = model(inputs)\n",
    "\n",
    "        if device == 'cuda':\n",
    "            torch.cuda.synchronize() # wait for cuda to finish (cuda is asynchronous!)\n",
    "        if i != 0:\n",
    "            time_spent.append(time.time() - start_time)\n",
    "        i += 1\n",
    "    print('Avg execution time (ms): {:.3f}'.format(np.mean(time_spent)))\n",
    "    return np.mean(time_spent)"
   ]
  },
  {
   "cell_type": "code",
   "execution_count": 11,
   "metadata": {},
   "outputs": [],
   "source": [
    "modellist = [\"resnet18\", \"resnet34\", \"resnet50\", \"resnet101\", \"resnet152\", \\\n",
    " \"resnext50_32x4d\", \"resnext101_32x8d\", \"mnasnet1_0\", \"squeezenet1_0\", \"densenet121\", \"densenet169\", \"inception_v3\"]\n",
    "\n",
    "# resnet is enought for now\n",
    "modellist = [\"resnet18\", \"resnet34\", \"resnet50\"]"
   ]
  },
  {
   "cell_type": "code",
   "execution_count": 17,
   "metadata": {},
   "outputs": [
    {
     "name": "stdout",
     "output_type": "stream",
     "text": [
      "model: resnet18\n",
      "Looks ok!\n"
     ]
    }
   ],
   "source": [
    "# test amp\n",
    "model_name = \"resnet18\"\n",
    "print(\"model: {}\".format(model_name))\n",
    "mdl = globals()[model_name]\n",
    "model = mdl().to(\"cuda\")\n",
    "model = amp.initialize(model, opt_level=opt_level)\n",
    "print(\"Looks ok!\")"
   ]
  },
  {
   "cell_type": "code",
   "execution_count": 20,
   "metadata": {
    "scrolled": false
   },
   "outputs": [
    {
     "name": "stdout",
     "output_type": "stream",
     "text": [
      "model: resnet18\n",
      "Avg execution time (ms): 0.010\n",
      "Avg execution time (ms): 0.009\n",
      "Selected optimization level O1:  Insert automatic casts around Pytorch functions and Tensor methods.\n",
      "\n",
      "Defaults for this optimization level are:\n",
      "enabled                : True\n",
      "opt_level              : O1\n",
      "cast_model_type        : None\n",
      "patch_torch_functions  : True\n",
      "keep_batchnorm_fp32    : None\n",
      "master_weights         : None\n",
      "loss_scale             : dynamic\n",
      "Processing user overrides (additional kwargs that are not None)...\n",
      "After processing overrides, optimization options are:\n",
      "enabled                : True\n",
      "opt_level              : O1\n",
      "cast_model_type        : None\n",
      "patch_torch_functions  : True\n",
      "keep_batchnorm_fp32    : None\n",
      "master_weights         : None\n",
      "loss_scale             : dynamic\n",
      "Avg execution time (ms): 0.009\n",
      "model: resnet34\n",
      "Avg execution time (ms): 0.017\n",
      "Avg execution time (ms): 0.017\n",
      "Selected optimization level O1:  Insert automatic casts around Pytorch functions and Tensor methods.\n",
      "\n",
      "Defaults for this optimization level are:\n",
      "enabled                : True\n",
      "opt_level              : O1\n",
      "cast_model_type        : None\n",
      "patch_torch_functions  : True\n",
      "keep_batchnorm_fp32    : None\n",
      "master_weights         : None\n",
      "loss_scale             : dynamic\n",
      "Processing user overrides (additional kwargs that are not None)...\n",
      "After processing overrides, optimization options are:\n",
      "enabled                : True\n",
      "opt_level              : O1\n",
      "cast_model_type        : None\n",
      "patch_torch_functions  : True\n",
      "keep_batchnorm_fp32    : None\n",
      "master_weights         : None\n",
      "loss_scale             : dynamic\n",
      "Avg execution time (ms): 0.017\n",
      "model: resnet50\n",
      "Avg execution time (ms): 0.019\n",
      "Avg execution time (ms): 0.019\n",
      "Selected optimization level O1:  Insert automatic casts around Pytorch functions and Tensor methods.\n",
      "\n",
      "Defaults for this optimization level are:\n",
      "enabled                : True\n",
      "opt_level              : O1\n",
      "cast_model_type        : None\n",
      "patch_torch_functions  : True\n",
      "keep_batchnorm_fp32    : None\n",
      "master_weights         : None\n",
      "loss_scale             : dynamic\n",
      "Processing user overrides (additional kwargs that are not None)...\n",
      "After processing overrides, optimization options are:\n",
      "enabled                : True\n",
      "opt_level              : O1\n",
      "cast_model_type        : None\n",
      "patch_torch_functions  : True\n",
      "keep_batchnorm_fp32    : None\n",
      "master_weights         : None\n",
      "loss_scale             : dynamic\n",
      "Avg execution time (ms): 0.020\n"
     ]
    }
   ],
   "source": [
    "for i, model_name in enumerate(modellist):\n",
    "\n",
    "    runtimes = []\n",
    "    \n",
    "    # define model\n",
    "    print(\"model: {}\".format(model_name))\n",
    "    mdl = globals()[model_name]\n",
    "    model = mdl()\n",
    "    \n",
    "    # Run FP32\n",
    "    runtimes.append(computeTime(model, input_size=[1, 3, 256, 256], device=\"cuda\", FP16=False))\n",
    "    # Run FP16\n",
    "    runtimes.append(computeTime(model, input_size=[1, 3, 256, 256], device=\"cuda\", FP16=True))\n",
    "    \n",
    "    # Amp Initialization\n",
    "    opt_level = 'O1'  # for only use FP32\n",
    "    mdl = globals()[model_name]\n",
    "    model = mdl().to(\"cuda\")\n",
    "    model = amp.initialize(model, opt_level=opt_level)\n",
    "    \n",
    "    # Run FP16\n",
    "    runtimes.append(computeTime(model, input_size=[1, 3, 256, 256], device=\"cuda\", FP16=False))\n",
    "    \n",
    "    if i == 0:\n",
    "        df = pd.DataFrame({model_name: runtimes},\n",
    "                         index = [\"FP32\", \"FP16_torch\", \"FP16_apex\"])\n",
    "    else:\n",
    "        df[model_name] = runtimes\n",
    "        "
   ]
  },
  {
   "cell_type": "code",
   "execution_count": 21,
   "metadata": {},
   "outputs": [
    {
     "data": {
      "text/html": [
       "<div>\n",
       "<style scoped>\n",
       "    .dataframe tbody tr th:only-of-type {\n",
       "        vertical-align: middle;\n",
       "    }\n",
       "\n",
       "    .dataframe tbody tr th {\n",
       "        vertical-align: top;\n",
       "    }\n",
       "\n",
       "    .dataframe thead th {\n",
       "        text-align: right;\n",
       "    }\n",
       "</style>\n",
       "<table border=\"1\" class=\"dataframe\">\n",
       "  <thead>\n",
       "    <tr style=\"text-align: right;\">\n",
       "      <th></th>\n",
       "      <th>resnet18</th>\n",
       "      <th>resnet34</th>\n",
       "      <th>resnet50</th>\n",
       "    </tr>\n",
       "  </thead>\n",
       "  <tbody>\n",
       "    <tr>\n",
       "      <th>FP32</th>\n",
       "      <td>0.009891</td>\n",
       "      <td>0.016940</td>\n",
       "      <td>0.019452</td>\n",
       "    </tr>\n",
       "    <tr>\n",
       "      <th>FP16_torch</th>\n",
       "      <td>0.009034</td>\n",
       "      <td>0.017017</td>\n",
       "      <td>0.019448</td>\n",
       "    </tr>\n",
       "    <tr>\n",
       "      <th>FP16_apex</th>\n",
       "      <td>0.009057</td>\n",
       "      <td>0.016978</td>\n",
       "      <td>0.020046</td>\n",
       "    </tr>\n",
       "  </tbody>\n",
       "</table>\n",
       "</div>"
      ],
      "text/plain": [
       "            resnet18  resnet34  resnet50\n",
       "FP32        0.009891  0.016940  0.019452\n",
       "FP16_torch  0.009034  0.017017  0.019448\n",
       "FP16_apex   0.009057  0.016978  0.020046"
      ]
     },
     "execution_count": 21,
     "metadata": {},
     "output_type": "execute_result"
    }
   ],
   "source": [
    "df.to_csv(\"results/fp16.csv\")\n",
    "df"
   ]
  },
  {
   "cell_type": "code",
   "execution_count": null,
   "metadata": {},
   "outputs": [],
   "source": []
  }
 ],
 "metadata": {
  "kernelspec": {
   "display_name": "Python 3",
   "language": "python",
   "name": "python3"
  },
  "language_info": {
   "codemirror_mode": {
    "name": "ipython",
    "version": 3
   },
   "file_extension": ".py",
   "mimetype": "text/x-python",
   "name": "python",
   "nbconvert_exporter": "python",
   "pygments_lexer": "ipython3",
   "version": "3.6.5"
  }
 },
 "nbformat": 4,
 "nbformat_minor": 2
}
